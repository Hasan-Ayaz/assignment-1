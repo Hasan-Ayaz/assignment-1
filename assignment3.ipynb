{
 "cells": [
  {
   "cell_type": "code",
   "execution_count": 1,
   "metadata": {},
   "outputs": [
    {
     "name": "stdout",
     "output_type": "stream",
     "text": [
      "enter operator(+,-,*,/,^)^\n",
      "enter number9\n",
      "enter power3\n",
      "729\n"
     ]
    }
   ],
   "source": [
    "Oper = input(\"enter operator(+,-,*,/,^)\")\n",
    "if Oper == \"+\" or Oper == \"-\" or Oper == \"*\" or Oper == \"/\":\n",
    "    a = int(input(\"enter first number\"))\n",
    "    b = int(input(\"enter second number\"))\n",
    "    if Oper == \"+\":\n",
    "        print(a+b)\n",
    "    elif Oper == \"-\":\n",
    "        print(a-b)\n",
    "    elif Oper == \"*\":\n",
    "        print(a*b)\n",
    "    elif Oper == \"/\":\n",
    "        print(a/b)\n",
    "elif Oper == \"^\":\n",
    "    a = int(input(\"enter number\"))\n",
    "    b = int(input(\"enter power\"))\n",
    "    print(a**b)\n",
    "else:\n",
    "    print(\"incorrect operator\")\n"
   ]
  },
  {
   "cell_type": "code",
   "execution_count": 2,
   "metadata": {},
   "outputs": [
    {
     "name": "stdout",
     "output_type": "stream",
     "text": [
      "5\n",
      "9\n",
      "10\n",
      "123\n",
      "45\n"
     ]
    }
   ],
   "source": [
    "a = [ \"hello\", 5 , 9 , \"wanna\" , 10 , \"eat\" , 123 , \"burger\" , 45 ]\n",
    "for x in a:\n",
    "    b = type(x)\n",
    "    if b == int:\n",
    "        print (x)\n"
   ]
  },
  {
   "cell_type": "code",
   "execution_count": 3,
   "metadata": {},
   "outputs": [
    {
     "name": "stdout",
     "output_type": "stream",
     "text": [
      "41.42011834319526\n"
     ]
    }
   ],
   "source": [
    "boy_1 = {\"height\": 1.3, \"weight\": 70 , \"waist\" : 30 }\n",
    "h = boy_1[\"height\"]\n",
    "w = boy_1[\"weight\"]\n",
    "BMI = w / (h**2)\n",
    "boy_1[\"BMI\"] = BMI \n",
    "print(boy_1[\"BMI\"])"
   ]
  },
  {
   "cell_type": "code",
   "execution_count": 4,
   "metadata": {},
   "outputs": [
    {
     "name": "stdout",
     "output_type": "stream",
     "text": [
      "1800\n"
     ]
    }
   ],
   "source": [
    "numbers = {\"a\" : 100 , \"b\" : 200 , \"c\" : 1000 , \"e\" : 500}\n",
    "sum = 0\n",
    "for x in numbers:\n",
    "    z = numbers[x]\n",
    "    \n",
    "    sum = sum + z \n",
    "print (sum)"
   ]
  },
  {
   "cell_type": "code",
   "execution_count": 5,
   "metadata": {},
   "outputs": [
    {
     "name": "stdout",
     "output_type": "stream",
     "text": [
      "apple\n",
      "123\n",
      "banana\n"
     ]
    }
   ],
   "source": [
    "list1 = [\"apple\" , 123 , \"banana\" , 98 , \"apple\" , \"orange\" , 123 , \"banana\"]\n",
    "size = len(list1)\n",
    "for x in range(size):\n",
    "    e1=list1[x]\n",
    "    a = x+1\n",
    "    for y in range(a,size):\n",
    "        e2=list1[y]\n",
    "        if e1 == e2:\n",
    "            print(e1)        \n",
    "            "
   ]
  },
  {
   "cell_type": "code",
   "execution_count": 6,
   "metadata": {},
   "outputs": [
    {
     "name": "stdout",
     "output_type": "stream",
     "text": [
      "Key is not present in the dictionary\n"
     ]
    }
   ],
   "source": [
    "boy_1 = {\"height\": 1.3, \"weight\": 70 , \"waist\" : 30 }\n",
    "x = \"BMI\"\n",
    "if x in boy_1:\n",
    "      print('Key is present in the dictionary')\n",
    "else:\n",
    "      print('Key is not present in the dictionary')"
   ]
  },
  {
   "cell_type": "code",
   "execution_count": null,
   "metadata": {},
   "outputs": [],
   "source": []
  }
 ],
 "metadata": {
  "kernelspec": {
   "display_name": "Python 3",
   "language": "python",
   "name": "python3"
  },
  "language_info": {
   "codemirror_mode": {
    "name": "ipython",
    "version": 3
   },
   "file_extension": ".py",
   "mimetype": "text/x-python",
   "name": "python",
   "nbconvert_exporter": "python",
   "pygments_lexer": "ipython3",
   "version": "3.7.0"
  }
 },
 "nbformat": 4,
 "nbformat_minor": 2
}
