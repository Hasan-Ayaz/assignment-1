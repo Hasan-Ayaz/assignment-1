{
 "cells": [
  {
   "cell_type": "markdown",
   "metadata": {},
   "source": [
    "## Question 1: Define Object Oriented Programming Language?\n",
    "\n",
    "**Ans**: Object-oriented programming (OOP) refers to a type of computer programming (software design) in which programmers define the data type of a data structure, and also the types of operations (functions) that can be applied to the data structure.  \n"
   ]
  },
  {
   "cell_type": "markdown",
   "metadata": {},
   "source": [
    "## Question 2: List down the Benefits of OOP?\n",
    "\n",
    "**Ans**: Advantages of object-oriented programming techniques over procedural programming techniques is that they enable programmers to create modules that do not need to be changed when a new type of object is added. A programmer can simply create a new object that inherits many of its features from existing objects. This makes object-oriented programs easier to modify."
   ]
  },
  {
   "cell_type": "markdown",
   "metadata": {},
   "source": [
    "## Question 3: Differentiate between function and method?\n",
    "\n",
    "**Ans**: A **function** is a piece of code that is called by name. It can be passed data to operate on (i.e. the parameters) and can optionally return data (the return value).All data that is passed to a function is explicitly passed.\n",
    "\n",
    "A **method** is a piece of code that is called by a name that is associated with an object. In most respects it is identical to a function except for two key differences:\n",
    "\n",
    "1. A method is implicitly passed the object on which it was called.\n",
    "2. A method is able to operate on data that is contained within the class (remembering that an object is an instance of a class - the class is the definition, the object is an instance of that data)."
   ]
  },
  {
   "cell_type": "markdown",
   "metadata": {},
   "source": [
    "## Question 4: Define the following terms:\n",
    "## 1. Class\n",
    "## 2. Object\n",
    "## 3. Attribute\n",
    "## 4. Behavior\n",
    "\n",
    "**Ans**: \n",
    "* **Class**:  A class is a template of general structure for creating objects (a particular data structure). e.g. car, human can be a class.\n",
    "* **Object**: An object is a specific instance having its own state created using particular class. e.g. audi is an object of class car, Jake is an object of class human.\n",
    "* **Atribute**: Attribute defines the state of object of a class. They store the information about the instance or object e.g. name, age, colour are attributes.\n",
    "* **Behavior**: Behavor of object defines how the object will react for a given task or any changes e.g. sleeping, eating is behavor of human.   \n"
   ]
  },
  {
   "cell_type": "markdown",
   "metadata": {},
   "source": [
    "## Question 5: Write a code in python in which create a class named it Car which have 5 attributes such like (model, color and name etc.) and 3 methods. And create 5 object instance from that class."
   ]
  },
  {
   "cell_type": "code",
   "execution_count": 3,
   "metadata": {},
   "outputs": [],
   "source": [
    "class car():\n",
    "    def __init__(self,name,model_year,cartype,colour,fuel_type):\n",
    "        self.name = name\n",
    "        self.model_year = model_year\n",
    "        self.cartype = cartype\n",
    "        self.colour = colour\n",
    "        self.fuel = fuel_type\n",
    "        \n",
    "    def updatecolour(self,new_colour):\n",
    "        self.colour = new_colour\n",
    "    \n",
    "    def updatemodel_year(self,new_modelyear):\n",
    "        self.model_year = new_modelyear\n",
    "    \n",
    "    def updatename(self,new_name):\n",
    "        self.name = new_name\n",
    "        self.model_year = input(\"enter model year:\")\n",
    "        self.cartype = input(\"enter car type:\")\n",
    "        self.fuel_type = input(\"enter fuel type:\")\n",
    "        \n",
    "tesla= car(\"roadstar\",2017,\"sedan\",\"red\",\"electric\")\n",
    "honda= car(\"city\",2015,\"sedan\",\"grey\",\"petrol\")\n",
    "toyota= car(\"prius\",2018,\"sedan\",\"white\",\"hybrid\")\n",
    "audi= car(\"Audi A5\",2019,\"sedan\",\"black\",\"petrol\")\n",
    "kia= car(\"picanto\",2019,\"hatchback\",\"grey\",\"petrol\")\n"
   ]
  },
  {
   "cell_type": "code",
   "execution_count": null,
   "metadata": {},
   "outputs": [],
   "source": []
  }
 ],
 "metadata": {
  "kernelspec": {
   "display_name": "Python 3",
   "language": "python",
   "name": "python3"
  },
  "language_info": {
   "codemirror_mode": {
    "name": "ipython",
    "version": 3
   },
   "file_extension": ".py",
   "mimetype": "text/x-python",
   "name": "python",
   "nbconvert_exporter": "python",
   "pygments_lexer": "ipython3",
   "version": "3.7.0"
  }
 },
 "nbformat": 4,
 "nbformat_minor": 2
}
