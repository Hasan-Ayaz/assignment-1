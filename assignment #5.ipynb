{
 "cells": [
  {
   "cell_type": "code",
   "execution_count": 1,
   "metadata": {},
   "outputs": [
    {
     "name": "stdout",
     "output_type": "stream",
     "text": [
      "362880\n"
     ]
    }
   ],
   "source": [
    "def factorial(x):\n",
    "    if x == 0:\n",
    "        return 1\n",
    "    if x > 0:\n",
    "        num = x\n",
    "        for i in range(0,x-1):\n",
    "            num = num * (x-1)\n",
    "            x=x-1\n",
    "        return num\n",
    "    else:\n",
    "        print(\"invalid input\")\n",
    "    \n",
    "a = factorial(9)  \n",
    "print(a)"
   ]
  },
  {
   "cell_type": "code",
   "execution_count": 2,
   "metadata": {},
   "outputs": [
    {
     "name": "stdout",
     "output_type": "stream",
     "text": [
      "Number of uppercase 4\n",
      "Number of lowercase 10\n"
     ]
    }
   ],
   "source": [
    "def letteruplow(a):\n",
    "    \n",
    "    count=0\n",
    "    count1=0\n",
    "    for i in a:\n",
    "        if(i.islower()):\n",
    "            count=count+1\n",
    "        if(i.isupper()):\n",
    "            count1=count1+1\n",
    "\n",
    "    \n",
    "    print(\"Number of uppercase\", count1)\n",
    "    print(\"Number of lowercase\", count)\n",
    "    \n",
    "letteruplow(\"Hello How Are You\")"
   ]
  },
  {
   "cell_type": "code",
   "execution_count": 3,
   "metadata": {},
   "outputs": [
    {
     "name": "stdout",
     "output_type": "stream",
     "text": [
      "even numbers in list are:\n",
      "2\n",
      "90\n",
      "10\n",
      "36\n",
      "22\n",
      "72\n"
     ]
    }
   ],
   "source": [
    "def iseven(x):\n",
    "    print(\"even numbers in list are:\")\n",
    "    for i in x:\n",
    "        a=i%2\n",
    "        if a == 0:\n",
    "            print(i)\n",
    "\n",
    "\n",
    "\n",
    "numbers = [2,3,90,5,10,36,31,19,21,22,13,72]\n",
    "iseven(numbers)"
   ]
  },
  {
   "cell_type": "code",
   "execution_count": 4,
   "metadata": {},
   "outputs": [
    {
     "name": "stdout",
     "output_type": "stream",
     "text": [
      "MALAYALAM is palindrome\n"
     ]
    }
   ],
   "source": [
    "def ispalindrome(a):\n",
    "    word1= a\n",
    "    word2= word1[::-1]\n",
    "    if word1 == word2:\n",
    "        print(word1 + \" is palindrome\")\n",
    "    else:\n",
    "        print(word1 + \" is not palindrome\")\n",
    "\n",
    "ispalindrome(\"MALAYALAM\")"
   ]
  },
  {
   "cell_type": "code",
   "execution_count": 5,
   "metadata": {},
   "outputs": [
    {
     "name": "stdout",
     "output_type": "stream",
     "text": [
      "97 is prime number\n"
     ]
    }
   ],
   "source": [
    "def isprime(x):\n",
    "    if x>1:\n",
    "        for i in range(2,x):\n",
    "            a=x%i\n",
    "            if a == 0:\n",
    "                print(x , \"is not prime number\")\n",
    "                break\n",
    "        else:\n",
    "            print(x, \"is prime number\")\n",
    "    else:\n",
    "        print(x, \"is not prime number\")\n",
    "\n",
    "isprime(97)"
   ]
  },
  {
   "cell_type": "code",
   "execution_count": 6,
   "metadata": {},
   "outputs": [
    {
     "name": "stdout",
     "output_type": "stream",
     "text": [
      "-------Shopping List-------\n",
      "          eggs\n",
      "          bread\n",
      "          flour\n",
      "          cake\n"
     ]
    }
   ],
   "source": [
    "def shopping_list(*items):\n",
    "    print(\"-------Shopping List-------\")\n",
    "    for i in items:\n",
    "        print(\"          \" + i)\n",
    "\n",
    "shopping_list(\"eggs\",\"bread\",\"flour\",\"cake\")"
   ]
  },
  {
   "cell_type": "code",
   "execution_count": null,
   "metadata": {},
   "outputs": [],
   "source": []
  }
 ],
 "metadata": {
  "kernelspec": {
   "display_name": "Python 3",
   "language": "python",
   "name": "python3"
  },
  "language_info": {
   "codemirror_mode": {
    "name": "ipython",
    "version": 3
   },
   "file_extension": ".py",
   "mimetype": "text/x-python",
   "name": "python",
   "nbconvert_exporter": "python",
   "pygments_lexer": "ipython3",
   "version": "3.7.0"
  }
 },
 "nbformat": 4,
 "nbformat_minor": 2
}
