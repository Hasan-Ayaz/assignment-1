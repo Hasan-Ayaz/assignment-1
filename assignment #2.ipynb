{
 "cells": [
  {
   "cell_type": "code",
   "execution_count": 2,
   "metadata": {},
   "outputs": [
    {
     "name": "stdout",
     "output_type": "stream",
     "text": [
      "enter 1st subject marks =96\n",
      "enter 2nd subject marks =97\n",
      "enter 3rd subject marks =85\n",
      "enter 4th subject marks =70\n",
      "enter 5th subject marks =90\n",
      "marks obtained in 1st subject =  96/100\n",
      "marks obtained in 2nd subject =  97/100\n",
      "marks obtained in 3rd subject =  85/100\n",
      "marks obtained in 4th subject =  70/100\n",
      "marks obtained in 5th subject =  90/100\n",
      "total marks = 438\n",
      "percentage marks obtained = 87.6%\n"
     ]
    }
   ],
   "source": [
    "m1 = int(input(\"enter 1st subject marks =\"))\n",
    "m2 = int(input(\"enter 2nd subject marks =\"))\n",
    "m3 = int(input(\"enter 3rd subject marks =\"))\n",
    "m4 = int(input(\"enter 4th subject marks =\"))\n",
    "m5 = int(input(\"enter 5th subject marks =\"))\n",
    "print(\"marks obtained in 1st subject = \" ,str(m1) + \"/100\")\n",
    "print(\"marks obtained in 2nd subject = \" ,str(m2) + \"/100\")\n",
    "print(\"marks obtained in 3rd subject = \" ,str(m3) + \"/100\")\n",
    "print(\"marks obtained in 4th subject = \" ,str(m4) + \"/100\")\n",
    "print(\"marks obtained in 5th subject = \" ,str(m5) + \"/100\")\n",
    "tm=m1+m2+m3+m4+m5\n",
    "print(\"total marks =\", tm)\n",
    "print(\"percentage marks obtained =\" , str(tm/500*100) + \"%\" )\n"
   ]
  },
  {
   "cell_type": "code",
   "execution_count": 3,
   "metadata": {},
   "outputs": [
    {
     "name": "stdout",
     "output_type": "stream",
     "text": [
      "Enter a number =5\n",
      "5 is odd\n"
     ]
    }
   ],
   "source": [
    "num = int(input(\"Enter a number =\"))\n",
    "mod = num%2\n",
    "if mod == 0:\n",
    "    print(num , \"is even\")\n",
    "    \n",
    "else :\n",
    "    print(num, \"is odd\")\n"
   ]
  },
  {
   "cell_type": "code",
   "execution_count": 4,
   "metadata": {},
   "outputs": [
    {
     "name": "stdout",
     "output_type": "stream",
     "text": [
      "12\n"
     ]
    }
   ],
   "source": [
    "a = [2,4,5,6,4,5,6,7,8,66,56,40]\n",
    "print(len(a))"
   ]
  },
  {
   "cell_type": "code",
   "execution_count": 5,
   "metadata": {},
   "outputs": [
    {
     "name": "stdout",
     "output_type": "stream",
     "text": [
      "45\n"
     ]
    }
   ],
   "source": [
    "a= [1,2,3,4,5,6,7,8,9]\n",
    "A = sum(a)\n",
    "print(A)"
   ]
  },
  {
   "cell_type": "code",
   "execution_count": 6,
   "metadata": {},
   "outputs": [
    {
     "name": "stdout",
     "output_type": "stream",
     "text": [
      "100\n"
     ]
    }
   ],
   "source": [
    "a= [4,66,5,54,76,88,100,94]\n",
    "print(max(a))"
   ]
  },
  {
   "cell_type": "code",
   "execution_count": 7,
   "metadata": {},
   "outputs": [
    {
     "name": "stdout",
     "output_type": "stream",
     "text": [
      "1\n",
      "1\n",
      "2\n",
      "3\n",
      "4\n",
      "3\n",
      "2\n"
     ]
    }
   ],
   "source": [
    "a = [1, 1, 2, 3, 5, 8, 13, 21, 34, 55, 89,6,4,3,98,105,2]\n",
    "\n",
    "for x in a:\n",
    "    if x < 5 :\n",
    "        print(x)"
   ]
  },
  {
   "cell_type": "code",
   "execution_count": null,
   "metadata": {},
   "outputs": [],
   "source": []
  }
 ],
 "metadata": {
  "kernelspec": {
   "display_name": "Python 3",
   "language": "python",
   "name": "python3"
  },
  "language_info": {
   "codemirror_mode": {
    "name": "ipython",
    "version": 3
   },
   "file_extension": ".py",
   "mimetype": "text/x-python",
   "name": "python",
   "nbconvert_exporter": "python",
   "pygments_lexer": "ipython3",
   "version": "3.7.0"
  }
 },
 "nbformat": 4,
 "nbformat_minor": 2
}
